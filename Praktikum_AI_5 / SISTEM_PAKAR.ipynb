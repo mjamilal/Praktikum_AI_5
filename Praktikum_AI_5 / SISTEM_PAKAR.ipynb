{
  "nbformat": 4,
  "nbformat_minor": 0,
  "metadata": {
    "colab": {
      "provenance": [],
      "authorship_tag": "ABX9TyNSGEm9UfOwRi/PzL4r64Ev",
      "include_colab_link": true
    },
    "kernelspec": {
      "name": "python3",
      "display_name": "Python 3"
    },
    "language_info": {
      "name": "python"
    }
  },
  "cells": [
    {
      "cell_type": "markdown",
      "metadata": {
        "id": "view-in-github",
        "colab_type": "text"
      },
      "source": [
        "<a href=\"https://colab.research.google.com/github/mjamilal/Praktikum_AI_5/blob/main/Praktikum_AI_5%20/%20SISTEM_PAKAR.ipynb\" target=\"_parent\"><img src=\"https://colab.research.google.com/assets/colab-badge.svg\" alt=\"Open In Colab\"/></a>"
      ]
    },
    {
      "cell_type": "code",
      "execution_count": null,
      "metadata": {
        "id": "pWguRlj28BYM"
      },
      "outputs": [],
      "source": [
        "from experta import *\n",
        "\n",
        "class Diagnosis(KnowledgeEngine):\n",
        "\n",
        "    @Rule(Fact(demam=True) & Fact(sakit_kepala=True) & Fact(nyeri_otot=True))\n",
        "    def malaria(self):\n",
        "        print(\"Diagnosis: Kamu mungkin terkena Malaria.\")\n",
        "\n",
        "    @Rule(Fact(mual=True) & Fact(muntah=True) & Fact(sakit_perut=True))\n",
        "    def keracunan_makanan(self):\n",
        "        print(\"Diagnosis: Kamu mungkin mengalami Keracunan Makanan.\")\n",
        "\n",
        "    @Rule(Fact(nyeri_dada=True) & Fact(sesak_napas=True))\n",
        "    def serangan_jantung_ringan(self):\n",
        "        print(\"Diagnosis: Kamu mungkin mengalami Serangan Jantung Ringan.\")\n",
        "\n",
        "    @Rule(Fact(pusing=True) & Fact(penglihatan_kabur=True))\n",
        "    def tekanan_darah_rendah(self):\n",
        "        print(\"Diagnosis: Kamu mungkin mengalami Tekanan Darah Rendah.\")\n",
        "\n",
        "    @Rule(Fact(gatal_kulit=True) & Fact(kemerahan_kulit=True))\n",
        "    def dermatitis(self):\n",
        "        print(\"Diagnosis: Kamu mungkin mengalami Dermatitis (iritasi kulit).\")\n",
        "\n",
        "    @Rule(\n",
        "        Fact(demam=False), Fact(sakit_kepala=False), Fact(nyeri_otot=False),\n",
        "        Fact(mual=False), Fact(muntah=False), Fact(sakit_perut=False),\n",
        "        Fact(nyeri_dada=False), Fact(sesak_napas=False),\n",
        "        Fact(pusing=False), Fact(penglihatan_kabur=False),\n",
        "        Fact(gatal_kulit=False), Fact(kemerahan_kulit=False)\n",
        "    )\n",
        "    def sehat(self):\n",
        "        print(\"Diagnosis: Kondisi kamu tampaknya sehat.\")\n",
        "\n",
        "def input_gejala():\n",
        "    def tanya(pertanyaan):\n",
        "        return input(pertanyaan + \" (ya/tidak): \").strip().lower() == \"ya\"\n",
        "\n",
        "    return {\n",
        "        \"demam\": tanya(\"Apakah kamu demam?\"),\n",
        "        \"sakit_kepala\": tanya(\"Apakah kamu sakit kepala?\"),\n",
        "        \"nyeri_otot\": tanya(\"Apakah kamu nyeri otot?\"),\n",
        "        \"mual\": tanya(\"Apakah kamu merasa mual?\"),\n",
        "        \"muntah\": tanya(\"Apakah kamu muntah?\"),\n",
        "        \"sakit_perut\": tanya(\"Apakah kamu sakit perut?\"),\n",
        "        \"nyeri_dada\": tanya(\"Apakah kamu nyeri dada?\"),\n",
        "        \"sesak_napas\": tanya(\"Apakah kamu sesak napas?\"),\n",
        "        \"pusing\": tanya(\"Apakah kamu merasa pusing?\"),\n",
        "        \"penglihatan_kabur\": tanya(\"Apakah penglihatanmu kabur?\"),\n",
        "        \"gatal_kulit\": tanya(\"Apakah kulitmu terasa gatal?\"),\n",
        "        \"kemerahan_kulit\": tanya(\"Apakah ada kemerahan pada kulitmu?\")\n",
        "    }\n",
        "\n",
        "if __name__ == \"__main__\":\n",
        "    print(\"=== Sistem Pakar Diagnosa Penyakit (Versi Ringkas) ===\")\n",
        "    print(\"Silakan jawab pertanyaan berikut dengan 'ya' atau 'tidak':\")\n",
        "    gejala = input_gejala()\n",
        "\n",
        "    engine = Diagnosis()\n",
        "    engine.reset()\n",
        "    engine.declare(Fact(**gejala))\n",
        "    engine.run()\n"
      ]
    }
  ]
}